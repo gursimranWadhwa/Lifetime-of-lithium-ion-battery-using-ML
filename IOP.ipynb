{
  "cells": [
    {
      "cell_type": "markdown",
      "metadata": {
        "id": "view-in-github",
        "colab_type": "text"
      },
      "source": [
        "<a href=\"https://colab.research.google.com/github/gursimranWadhwa/Lifetime-of-lithium-ion-battery-using-ML/blob/main/IOP.ipynb\" target=\"_parent\"><img src=\"https://colab.research.google.com/assets/colab-badge.svg\" alt=\"Open In Colab\"/></a>"
      ]
    },
    {
      "cell_type": "code",
      "execution_count": null,
      "metadata": {
        "id": "c20PHXtD0moj"
      },
      "outputs": [],
      "source": [
        "import numpy as np\n",
        "import pandas as pd\n",
        "import matplotlib.pyplot as plt\n"
      ]
    },
    {
      "cell_type": "code",
      "source": [
        "from google.colab import drive\n",
        "drive.mount('/content/drive')"
      ],
      "metadata": {
        "colab": {
          "base_uri": "https://localhost:8080/"
        },
        "id": "tDR_M0IHO5F9",
        "outputId": "df2a8873-6cb0-4aca-8bce-c7a0b6b3fecd"
      },
      "execution_count": null,
      "outputs": [
        {
          "output_type": "stream",
          "name": "stdout",
          "text": [
            "Mounted at /content/drive\n"
          ]
        }
      ]
    },
    {
      "cell_type": "code",
      "execution_count": null,
      "metadata": {
        "id": "NvROLrai0qs1"
      },
      "outputs": [],
      "source": [
        "import glob\n",
        "import os\n",
        "def sortKeyFunc(s):\n",
        "    return int(os.path.basename(s)[4:-4])\n",
        "\n",
        "def readTrainData(file):\n",
        "    files = glob.glob('/content/drive/MyDrive/IOP/IOP/data_neha/' + file + '/*.csv')\n",
        "    files.sort(key=sortKeyFunc) \n",
        "    \n",
        "    l = len(files)\n",
        "    data = np.zeros((l,1000,99))\n",
        "    for k, file in enumerate(files):\n",
        "        cell = np.genfromtxt(file,delimiter=',')\n",
        "        data[k,:,:] = cell \n",
        "    \n",
        "    return data\n"
      ]
    },
    {
      "cell_type": "code",
      "execution_count": null,
      "metadata": {
        "id": "1jhPlp6g0qwU"
      },
      "outputs": [],
      "source": [
        "train_data_org = readTrainData('train')\n",
        "test_data_org = readTrainData('test1')\n"
      ]
    },
    {
      "cell_type": "code",
      "source": [
        "test_data_org.shape"
      ],
      "metadata": {
        "colab": {
          "base_uri": "https://localhost:8080/"
        },
        "id": "DzW4XDAKvyku",
        "outputId": "f9341858-0def-42f7-880c-5f129b444d2f"
      },
      "execution_count": null,
      "outputs": [
        {
          "output_type": "execute_result",
          "data": {
            "text/plain": [
              "(43, 1000, 99)"
            ]
          },
          "metadata": {},
          "execution_count": 5
        }
      ]
    },
    {
      "cell_type": "code",
      "execution_count": null,
      "metadata": {
        "colab": {
          "base_uri": "https://localhost:8080/"
        },
        "id": "T0UKfGbOtG0j",
        "outputId": "5d1f1654-cfbc-4379-d0e4-c1b3135709ab"
      },
      "outputs": [
        {
          "output_type": "execute_result",
          "data": {
            "text/plain": [
              "(41, 1000, 99)"
            ]
          },
          "metadata": {},
          "execution_count": 6
        }
      ],
      "source": [
        "train_data_org.shape"
      ]
    },
    {
      "cell_type": "code",
      "execution_count": null,
      "metadata": {
        "id": "miL40cyE0qyu"
      },
      "outputs": [],
      "source": [
        "def readTestData(file):\n",
        "    files = np.log10(np.genfromtxt('/content/drive/MyDrive/IOP/IOP/data_neha/cycle_lives/'+file+'_cycle_lives.csv'))\n",
        "    return files\n",
        "train_out = readTestData('train')\n",
        "test_out = readTestData('test1')\n",
        "\n",
        "# /content/drive/MyDrive/IOP/IOP/data_neha/cycle_lives/train_cycle_lives.csv"
      ]
    },
    {
      "cell_type": "code",
      "execution_count": null,
      "metadata": {
        "id": "-isuaiPs00SN"
      },
      "outputs": [],
      "source": [
        "train_data = (train_data_org[:, ::10, 98]) - (train_data_org[:, ::10, 8])\n",
        "test_data = (test_data_org[:, ::10, 98]) -(test_data_org[:, ::10, 8])\n"
      ]
    },
    {
      "cell_type": "code",
      "execution_count": null,
      "metadata": {
        "id": "kzf6xo1-IaeU"
      },
      "outputs": [],
      "source": [
        "test_data = np.concatenate([test_data[:21], test_data[22:]])\n",
        "test_out = np.concatenate([test_out[:21], test_out[22:]])"
      ]
    },
    {
      "cell_type": "code",
      "source": [
        "test_data"
      ],
      "metadata": {
        "colab": {
          "base_uri": "https://localhost:8080/"
        },
        "id": "N_MT9vRQuklr",
        "outputId": "dec1ac20-569c-4738-f124-fded601ede0f"
      },
      "execution_count": null,
      "outputs": [
        {
          "output_type": "execute_result",
          "data": {
            "text/plain": [
              "array([[ 5.4770e-05,  1.7374e-05,  2.5410e-05, ...,  3.0000e-04,\n",
              "         7.0000e-04,  6.0000e-04],\n",
              "       [ 8.7800e-06,  1.1779e-05, -2.0900e-06, ..., -9.0000e-04,\n",
              "        -1.0000e-03, -9.0000e-04],\n",
              "       [ 4.1640e-05,  2.9562e-05,  6.6900e-06, ..., -1.3000e-03,\n",
              "        -1.3000e-03, -1.2000e-03],\n",
              "       ...,\n",
              "       [ 9.7240e-05,  4.3371e-05,  1.1670e-05, ..., -1.2900e-02,\n",
              "        -1.2700e-02, -1.2500e-02],\n",
              "       [-7.2060e-05, -6.8024e-05, -3.2380e-05, ..., -1.5800e-02,\n",
              "        -1.5500e-02, -1.5300e-02],\n",
              "       [ 4.2390e-05,  8.2480e-06,  2.2800e-06, ..., -3.9000e-03,\n",
              "        -3.7000e-03, -3.8000e-03]])"
            ]
          },
          "metadata": {},
          "execution_count": 10
        }
      ]
    },
    {
      "cell_type": "code",
      "execution_count": null,
      "metadata": {
        "colab": {
          "base_uri": "https://localhost:8080/",
          "height": 282
        },
        "id": "lsxQs_kS0q1F",
        "outputId": "5b4a8752-85c6-4c16-a359-f236cca26fac"
      },
      "outputs": [
        {
          "output_type": "execute_result",
          "data": {
            "text/plain": [
              "[<matplotlib.lines.Line2D at 0x7f67e9e44f10>]"
            ]
          },
          "metadata": {},
          "execution_count": 11
        },
        {
          "output_type": "display_data",
          "data": {
            "text/plain": [
              "<Figure size 432x288 with 1 Axes>"
            ],
            "image/png": "[encoded data removed]"
          },
          "metadata": {
            "needs_background": "light"
          }
        }
      ],
      "source": [
        "plt.plot(train_data[0])"
      ]
    },
    {
      "cell_type": "code",
      "execution_count": null,
      "metadata": {
        "id": "bN87gn9f0q5y"
      },
      "outputs": [],
      "source": [
        "from sklearn.ensemble import RandomForestRegressor\n",
        "regressor = RandomForestRegressor(\n",
        "    n_estimators = 1000, random_state = 0)\n",
        "regressor.fit(train_data, train_out)\n",
        "train_pred_rf= regressor.predict(train_data)"
      ]
    },
    {
      "cell_type": "code",
      "execution_count": null,
      "metadata": {
        "colab": {
          "base_uri": "https://localhost:8080/"
        },
        "id": "ec7Cctfcr2TD",
        "outputId": "9aaa3403-f75f-49b7-b2e0-07eead7498eb"
      },
      "outputs": [
        {
          "output_type": "stream",
          "name": "stdout",
          "text": [
            "0.9313733706505255\n"
          ]
        }
      ],
      "source": [
        "from sklearn.metrics import r2_score\n",
        "print(r2_score(train_pred_rf,train_out))"
      ]
    },
    {
      "cell_type": "code",
      "execution_count": null,
      "metadata": {
        "colab": {
          "base_uri": "https://localhost:8080/",
          "height": 265
        },
        "id": "2NKvEtSPrZmM",
        "outputId": "a7e465ef-b5ba-4a6e-9be5-c33de0c8b91a"
      },
      "outputs": [
        {
          "output_type": "display_data",
          "data": {
            "text/plain": [
              "<Figure size 432x288 with 1 Axes>"
            ],
            "image/png": "[encoded data removed]"
          },
          "metadata": {
            "needs_background": "light"
          }
        }
      ],
      "source": [
        "plt.scatter(train_pred_rf,train_out)\n",
        "plt.show()"
      ]
    },
    {
      "cell_type": "code",
      "execution_count": null,
      "metadata": {
        "colab": {
          "base_uri": "https://localhost:8080/"
        },
        "id": "dM9jIfkKLMLI",
        "outputId": "e3b09b2f-bbf9-4873-e65e-7c3877b8b218"
      },
      "outputs": [
        {
          "output_type": "stream",
          "name": "stdout",
          "text": [
            "0.7425141947688814\n"
          ]
        }
      ],
      "source": [
        "test_pred_rf = regressor.predict(test_data)\n",
        "print(r2_score(test_pred_rf,test_out))"
      ]
    },
    {
      "cell_type": "code",
      "execution_count": null,
      "metadata": {
        "colab": {
          "base_uri": "https://localhost:8080/",
          "height": 265
        },
        "id": "vXSLWcsRrXYD",
        "outputId": "03d9b3ee-b71f-4209-8a6d-e128901b1743"
      },
      "outputs": [
        {
          "output_type": "display_data",
          "data": {
            "text/plain": [
              "<Figure size 432x288 with 1 Axes>"
            ],
            "image/png": "[encoded data removed]"
          },
          "metadata": {
            "needs_background": "light"
          }
        }
      ],
      "source": [
        "plt.scatter(test_pred_rf,test_out)\n",
        "plt.show()"
      ]
    },
    {
      "cell_type": "code",
      "execution_count": null,
      "metadata": {
        "id": "AHhdpxHGKSxG"
      },
      "outputs": [],
      "source": [
        "from sklearn.ensemble import AdaBoostRegressor\n",
        "adb_r = AdaBoostRegressor(n_estimators = 300)\n",
        "adb_r.fit(train_data, train_out)\n",
        "\n",
        "# Predicting a new result\n",
        "train_pred_adb = adb_r.predict(train_data)"
      ]
    },
    {
      "cell_type": "code",
      "execution_count": null,
      "metadata": {
        "colab": {
          "base_uri": "https://localhost:8080/"
        },
        "id": "QaCBY8LksM3p",
        "outputId": "0fc9b4b0-48bc-44cf-e558-7c82d17aa104"
      },
      "outputs": [
        {
          "output_type": "stream",
          "name": "stdout",
          "text": [
            "0.9714740603926058\n"
          ]
        }
      ],
      "source": [
        "from sklearn.metrics import r2_score\n",
        "print(r2_score(train_pred_adb,train_out))"
      ]
    },
    {
      "cell_type": "code",
      "execution_count": null,
      "metadata": {
        "colab": {
          "base_uri": "https://localhost:8080/",
          "height": 265
        },
        "id": "Dl42Qv00sM6j",
        "outputId": "3bb8bb1c-236b-4aa4-c788-5fe66fff56be"
      },
      "outputs": [
        {
          "output_type": "display_data",
          "data": {
            "text/plain": [
              "<Figure size 432x288 with 1 Axes>"
            ],
            "image/png": "[encoded data removed]"
          },
          "metadata": {
            "needs_background": "light"
          }
        }
      ],
      "source": [
        "plt.scatter(train_pred_adb,train_out)\n",
        "plt.show()"
      ]
    },
    {
      "cell_type": "code",
      "execution_count": null,
      "metadata": {
        "colab": {
          "base_uri": "https://localhost:8080/"
        },
        "id": "LuDFFSYysLFL",
        "outputId": "ac4d37f4-759c-4d66-cf02-015bf0b1f4a0"
      },
      "outputs": [
        {
          "output_type": "stream",
          "name": "stdout",
          "text": [
            "0.8110994675593152\n"
          ]
        }
      ],
      "source": [
        "test_pred_adb = adb_r.predict(test_data)\n",
        "print(r2_score(test_pred_adb,test_out))"
      ]
    },
    {
      "cell_type": "code",
      "execution_count": null,
      "metadata": {
        "colab": {
          "base_uri": "https://localhost:8080/",
          "height": 265
        },
        "id": "jqNblecs0q_S",
        "outputId": "1529b7f5-7fff-4b48-84e3-eadf27575a0f"
      },
      "outputs": [
        {
          "output_type": "display_data",
          "data": {
            "text/plain": [
              "<Figure size 432x288 with 1 Axes>"
            ],
            "image/png": "[encoded data removed]"
          },
          "metadata": {
            "needs_background": "light"
          }
        }
      ],
      "source": [
        "plt.scatter(test_pred_adb,test_out)\n",
        "plt.show()"
      ]
    },
    {
      "cell_type": "code",
      "source": [
        "from sklearn.metrics import r2_score\n",
        "from sklearn.pipeline import make_pipeline\n",
        "from sklearn.preprocessing import StandardScaler\n",
        "from sklearn.linear_model import ElasticNetCV\n",
        "lratios = []\n",
        "for lratio in range(1,10):\n",
        "  eNet = make_pipeline(StandardScaler(with_mean=False), \n",
        "      ElasticNetCV(l1_ratio = lratio/10, \n",
        "                   max_iter=100000))\n",
        "  eNet.fit(train_data,train_out)\n",
        "  train_pred_eNet = eNet.predict(train_data)\n",
        "  lratios.append(r2_score(train_pred_eNet,train_out))\n",
        "final_lratio = np.argmax(np.array(lratios) + 1)/10"
      ],
      "metadata": {
        "id": "gIi-bwxPVZ5g"
      },
      "execution_count": null,
      "outputs": []
    },
    {
      "cell_type": "code",
      "source": [
        "eNet = make_pipeline(StandardScaler(with_mean=False), \n",
        "    ElasticNetCV(l1_ratio = final_lratio, max_iter=100000))"
      ],
      "metadata": {
        "id": "eBMwAMbrVgsF"
      },
      "execution_count": null,
      "outputs": []
    },
    {
      "cell_type": "code",
      "source": [
        "final_lratio"
      ],
      "metadata": {
        "colab": {
          "base_uri": "https://localhost:8080/"
        },
        "id": "Hf7DFYNDVsSF",
        "outputId": "0022f58a-6f75-441e-bf07-d18413c4d3a1"
      },
      "execution_count": null,
      "outputs": [
        {
          "output_type": "execute_result",
          "data": {
            "text/plain": [
              "0.8"
            ]
          },
          "metadata": {},
          "execution_count": 24
        }
      ]
    },
    {
      "cell_type": "code",
      "source": [
        "eNet.fit(train_data,train_out)\n",
        "train_pred_eNet = eNet.predict(train_data)"
      ],
      "metadata": {
        "id": "FWSlwYW0Vt-1"
      },
      "execution_count": null,
      "outputs": []
    },
    {
      "cell_type": "code",
      "source": [
        "plt.scatter(train_pred_eNet,train_out)\n",
        "plt.show()"
      ],
      "metadata": {
        "colab": {
          "base_uri": "https://localhost:8080/",
          "height": 265
        },
        "id": "0Vg0D3NiVv6I",
        "outputId": "37132203-73be-4a8d-e635-5704ea90a680"
      },
      "execution_count": null,
      "outputs": [
        {
          "output_type": "display_data",
          "data": {
            "text/plain": [
              "<Figure size 432x288 with 1 Axes>"
            ],
            "image/png": "[encoded data removed]"
          },
          "metadata": {
            "needs_background": "light"
          }
        }
      ]
    },
    {
      "cell_type": "code",
      "source": [
        "print(r2_score(train_pred_eNet,train_out))"
      ],
      "metadata": {
        "colab": {
          "base_uri": "https://localhost:8080/"
        },
        "id": "3siUDYn6VycQ",
        "outputId": "523e63a3-346e-440c-f8e2-c92887fa630a"
      },
      "execution_count": null,
      "outputs": [
        {
          "output_type": "stream",
          "name": "stdout",
          "text": [
            "0.9177683085222065\n"
          ]
        }
      ]
    },
    {
      "cell_type": "code",
      "source": [
        "test_pred_eNet = eNet.predict(test_data)"
      ],
      "metadata": {
        "id": "MU-yhUOjV1Qk"
      },
      "execution_count": null,
      "outputs": []
    },
    {
      "cell_type": "code",
      "source": [
        "plt.scatter(test_pred_eNet,test_out)\n",
        "plt.show()"
      ],
      "metadata": {
        "colab": {
          "base_uri": "https://localhost:8080/",
          "height": 265
        },
        "id": "KUFgpG4tV256",
        "outputId": "72ebe7a8-e435-4e2b-bdb6-d2caf9d4c899"
      },
      "execution_count": null,
      "outputs": [
        {
          "output_type": "display_data",
          "data": {
            "text/plain": [
              "<Figure size 432x288 with 1 Axes>"
            ],
            "image/png": "[encoded data removed]"
          },
          "metadata": {
            "needs_background": "light"
          }
        }
      ]
    },
    {
      "cell_type": "code",
      "source": [
        "print(r2_score(test_pred_eNet,test_out))"
      ],
      "metadata": {
        "colab": {
          "base_uri": "https://localhost:8080/"
        },
        "id": "UonDDJhyWThq",
        "outputId": "b95b6f9c-6de1-449a-8220-becb37951afb"
      },
      "execution_count": null,
      "outputs": [
        {
          "output_type": "stream",
          "name": "stdout",
          "text": [
            "0.8440026721737189\n"
          ]
        }
      ]
    },
    {
      "cell_type": "code",
      "source": [
        "from sklearn.svm import SVR\n",
        "val = []\n",
        "for c in range(11,20):\n",
        "  svr = make_pipeline(StandardScaler(with_mean=False), SVR(C = c/10))\n",
        "  svr.fit(train_data,train_out)\n",
        "  train_pred_svr = svr.predict(train_data)\n",
        "  val.append(r2_score(train_pred_svr,train_out))\n",
        "\n",
        "print(np.array(val))\n",
        "final_c= np.argmax(np.array(val))/10 +0.1"
      ],
      "metadata": {
        "colab": {
          "base_uri": "https://localhost:8080/"
        },
        "id": "Mx7jkl6NWX-2",
        "outputId": "74e8f5fc-e241-4d9b-d4e1-4fbdcf517aa8"
      },
      "execution_count": null,
      "outputs": [
        {
          "output_type": "stream",
          "name": "stdout",
          "text": [
            "[0.46083642 0.46924128 0.47401006 0.47401006 0.47401006 0.47401006\n",
            " 0.47401006 0.47401006 0.47401006]\n"
          ]
        }
      ]
    },
    {
      "cell_type": "code",
      "source": [
        "test_pred_svm = eNet.predict(test_data)\n",
        "print(r2_score(test_pred_svm,test_out))"
      ],
      "metadata": {
        "colab": {
          "base_uri": "https://localhost:8080/"
        },
        "id": "WmI0lXQEWbWA",
        "outputId": "d864d71a-dafa-418f-8b75-5287760fac25"
      },
      "execution_count": null,
      "outputs": [
        {
          "output_type": "stream",
          "name": "stdout",
          "text": [
            "0.8440026721737189\n"
          ]
        }
      ]
    },
    {
      "cell_type": "code",
      "source": [
        "from keras.models import Sequential\n",
        "from keras.layers import Dense"
      ],
      "metadata": {
        "id": "Ja4qpxnvWesG"
      },
      "execution_count": null,
      "outputs": []
    },
    {
      "cell_type": "code",
      "source": [
        "from keras.layers import Dropout\n",
        "model = Sequential()\n",
        "model.add(Dense(64, input_dim=train_data.shape[1], activation='relu'))\n",
        "model.add(Dropout(0.1))\n",
        "model.add(Dense(128, activation='relu'))\n",
        "model.add(Dropout(0.1))\n",
        "model.add(Dense(128, activation='relu'))\n",
        "model.add(Dropout(0.1))\n",
        "model.add(Dense(32, activation='relu'))\n",
        "model.add(Dense(1, activation='linear'))"
      ],
      "metadata": {
        "id": "OFieVS4sWhBj"
      },
      "execution_count": null,
      "outputs": []
    },
    {
      "cell_type": "code",
      "source": [
        "from keras.metrics import MeanSquaredError\n",
        "model.compile(loss='mse', optimizer='adam', metrics=[MeanSquaredError()])"
      ],
      "metadata": {
        "id": "j-fhZM08WjLa"
      },
      "execution_count": null,
      "outputs": []
    },
    {
      "cell_type": "code",
      "source": [
        "model.fit(train_data, train_out, epochs=500, batch_size=4)"
      ],
      "metadata": {
        "colab": {
          "base_uri": "https://localhost:8080/"
        },
        "id": "IXXlAAVTWlVh",
        "outputId": "fabd77d5-28e3-47ba-8559-d3c7742b8553"
      },
      "execution_count": null,
      "outputs": [
        {
          "output_type": "stream",
          "name": "stdout",
          "text": [
            "Epoch 1/500\n",
            "11/11 [==============================] - 1s 5ms/step - loss: 7.2029 - mean_squared_error: 7.2029\n",
            "Epoch 2/500\n",
            "11/11 [==============================] - 0s 3ms/step - loss: 4.5925 - mean_squared_error: 4.5925\n",
            "Epoch 3/500\n",
            "11/11 [==============================] - 0s 4ms/step - loss: 1.0486 - mean_squared_error: 1.0486\n",
            "Epoch 4/500\n",
            "11/11 [==============================] - 0s 3ms/step - loss: 0.9594 - mean_squared_error: 0.9594\n",
            "Epoch 5/500\n",
            "11/11 [==============================] - 0s 3ms/step - loss: 0.7337 - mean_squared_error: 0.7337\n",
            "Epoch 6/500\n",
            "11/11 [==============================] - 0s 4ms/step - loss: 0.5255 - mean_squared_error: 0.5255\n",
            "Epoch 7/500\n",
            "11/11 [==============================] - 0s 4ms/step - loss: 0.4850 - mean_squared_error: 0.4850\n",
            "Epoch 8/500\n",
            "11/11 [==============================] - 0s 3ms/step - loss: 0.4292 - mean_squared_error: 0.4292\n",
            "Epoch 9/500\n",
            "11/11 [==============================] - 0s 3ms/step - loss: 0.3593 - mean_squared_error: 0.3593\n",
            "Epoch 10/500\n",
            "11/11 [==============================] - 0s 4ms/step - loss: 0.2717 - mean_squared_error: 0.2717\n",
            "Epoch 11/500\n",
            "11/11 [==============================] - 0s 3ms/step - loss: 0.2487 - mean_squared_error: 0.2487\n",
            "Epoch 12/500\n",
            "11/11 [==============================] - 0s 4ms/step - loss: 0.2106 - mean_squared_error: 0.2106\n",
            "Epoch 13/500\n",
            "11/11 [==============================] - 0s 4ms/step - loss: 0.1555 - mean_squared_error: 0.1555\n",
            "Epoch 14/500\n",
            "11/11 [==============================] - 0s 3ms/step - loss: 0.1209 - mean_squared_error: 0.1209\n",
            "Epoch 15/500\n",
            "11/11 [==============================] - 0s 4ms/step - loss: 0.1581 - mean_squared_error: 0.1581\n",
            "Epoch 16/500\n",
            "11/11 [==============================] - 0s 3ms/step - loss: 0.1077 - mean_squared_error: 0.1077\n",
            "Epoch 17/500\n",
            "11/11 [==============================] - 0s 4ms/step - loss: 0.0639 - mean_squared_error: 0.0639\n",
            "Epoch 18/500\n",
            "11/11 [==============================] - 0s 3ms/step - loss: 0.0882 - mean_squared_error: 0.0882\n",
            "Epoch 19/500\n",
            "11/11 [==============================] - 0s 4ms/step - loss: 0.0592 - mean_squared_error: 0.0592\n",
            "Epoch 20/500\n",
            "11/11 [==============================] - 0s 3ms/step - loss: 0.0591 - mean_squared_error: 0.0591\n",
            "Epoch 21/500\n",
            "11/11 [==============================] - 0s 3ms/step - loss: 0.0484 - mean_squared_error: 0.0484\n",
            "Epoch 22/500\n",
            "11/11 [==============================] - 0s 4ms/step - loss: 0.0339 - mean_squared_error: 0.0339\n",
            "Epoch 23/500\n",
            "11/11 [==============================] - 0s 3ms/step - loss: 0.0474 - mean_squared_error: 0.0474\n",
            "Epoch 24/500\n",
            "11/11 [==============================] - 0s 5ms/step - loss: 0.0364 - mean_squared_error: 0.0364\n",
            "Epoch 25/500\n",
            "11/11 [==============================] - 0s 3ms/step - loss: 0.0361 - mean_squared_error: 0.0361\n",
            "Epoch 26/500\n",
            "11/11 [==============================] - 0s 4ms/step - loss: 0.0623 - mean_squared_error: 0.0623\n",
            "Epoch 27/500\n",
            "11/11 [==============================] - 0s 3ms/step - loss: 0.0572 - mean_squared_error: 0.0572\n",
            "Epoch 28/500\n",
            "11/11 [==============================] - 0s 3ms/step - loss: 0.0321 - mean_squared_error: 0.0321\n",
            "Epoch 29/500\n",
            "11/11 [==============================] - 0s 3ms/step - loss: 0.0283 - mean_squared_error: 0.0283\n",
            "Epoch 30/500\n",
            "11/11 [==============================] - 0s 3ms/step - loss: 0.0357 - mean_squared_error: 0.0357\n",
            "Epoch 31/500\n",
            "11/11 [==============================] - 0s 4ms/step - loss: 0.0552 - mean_squared_error: 0.0552\n",
            "Epoch 32/500\n",
            "11/11 [==============================] - 0s 3ms/step - loss: 0.0527 - mean_squared_error: 0.0527\n",
            "Epoch 33/500\n",
            "11/11 [==============================] - 0s 3ms/step - loss: 0.0432 - mean_squared_error: 0.0432\n",
            "Epoch 34/500\n",
            "11/11 [==============================] - 0s 3ms/step - loss: 0.0395 - mean_squared_error: 0.0395\n",
            "Epoch 35/500\n",
            "11/11 [==============================] - 0s 3ms/step - loss: 0.0248 - mean_squared_error: 0.0248\n",
            "Epoch 36/500\n",
            "11/11 [==============================] - 0s 3ms/step - loss: 0.0372 - mean_squared_error: 0.0372\n",
            "Epoch 37/500\n",
            "11/11 [==============================] - 0s 4ms/step - loss: 0.0240 - mean_squared_error: 0.0240\n",
            "Epoch 38/500\n",
            "11/11 [==============================] - 0s 3ms/step - loss: 0.0434 - mean_squared_error: 0.0434\n",
            "Epoch 39/500\n",
            "11/11 [==============================] - 0s 3ms/step - loss: 0.0272 - mean_squared_error: 0.0272\n",
            "Epoch 40/500\n",
            "11/11 [==============================] - 0s 3ms/step - loss: 0.0290 - mean_squared_error: 0.0290\n",
            "Epoch 41/500\n",
            "11/11 [==============================] - 0s 3ms/step - loss: 0.0366 - mean_squared_error: 0.0366\n",
            "Epoch 42/500\n",
            "11/11 [==============================] - 0s 3ms/step - loss: 0.0433 - mean_squared_error: 0.0433\n",
            "Epoch 43/500\n",
            "11/11 [==============================] - 0s 3ms/step - loss: 0.0407 - mean_squared_error: 0.0407\n",
            "Epoch 44/500\n",
            "11/11 [==============================] - 0s 3ms/step - loss: 0.0427 - mean_squared_error: 0.0427\n",
            "Epoch 45/500\n",
            "11/11 [==============================] - 0s 4ms/step - loss: 0.0648 - mean_squared_error: 0.0648\n",
            "Epoch 46/500\n",
            "11/11 [==============================] - 0s 3ms/step - loss: 0.0268 - mean_squared_error: 0.0268\n",
            "Epoch 47/500\n",
            "11/11 [==============================] - 0s 3ms/step - loss: 0.0328 - mean_squared_error: 0.0328\n",
            "Epoch 48/500\n",
            "11/11 [==============================] - 0s 3ms/step - loss: 0.0256 - mean_squared_error: 0.0256\n",
            "Epoch 49/500\n",
            "11/11 [==============================] - 0s 3ms/step - loss: 0.0198 - mean_squared_error: 0.0198\n",
            "Epoch 50/500\n",
            "11/11 [==============================] - 0s 3ms/step - loss: 0.0411 - mean_squared_error: 0.0411\n",
            "Epoch 51/500\n",
            "11/11 [==============================] - 0s 3ms/step - loss: 0.0385 - mean_squared_error: 0.0385\n",
            "Epoch 52/500\n",
            "11/11 [==============================] - 0s 3ms/step - loss: 0.0405 - mean_squared_error: 0.0405\n",
            "Epoch 53/500\n",
            "11/11 [==============================] - 0s 3ms/step - loss: 0.0308 - mean_squared_error: 0.0308\n",
            "Epoch 54/500\n",
            "11/11 [==============================] - 0s 3ms/step - loss: 0.0199 - mean_squared_error: 0.0199\n",
            "Epoch 55/500\n",
            "11/11 [==============================] - 0s 3ms/step - loss: 0.0252 - mean_squared_error: 0.0252\n",
            "Epoch 56/500\n",
            "11/11 [==============================] - 0s 3ms/step - loss: 0.0329 - mean_squared_error: 0.0329\n",
            "Epoch 57/500\n",
            "11/11 [==============================] - 0s 3ms/step - loss: 0.0333 - mean_squared_error: 0.0333\n",
            "Epoch 58/500\n",
            "11/11 [==============================] - 0s 3ms/step - loss: 0.0401 - mean_squared_error: 0.0401\n",
            "Epoch 59/500\n",
            "11/11 [==============================] - 0s 3ms/step - loss: 0.0573 - mean_squared_error: 0.0573\n",
            "Epoch 60/500\n",
            "11/11 [==============================] - 0s 3ms/step - loss: 0.0263 - mean_squared_error: 0.0263\n",
            "Epoch 61/500\n",
            "11/11 [==============================] - 0s 3ms/step - loss: 0.0321 - mean_squared_error: 0.0321\n",
            "Epoch 62/500\n",
            "11/11 [==============================] - 0s 3ms/step - loss: 0.0380 - mean_squared_error: 0.0380\n",
            "Epoch 63/500\n",
            "11/11 [==============================] - 0s 3ms/step - loss: 0.0247 - mean_squared_error: 0.0247\n",
            "Epoch 64/500\n",
            "11/11 [==============================] - 0s 4ms/step - loss: 0.0287 - mean_squared_error: 0.0287\n",
            "Epoch 65/500\n",
            "11/11 [==============================] - 0s 4ms/step - loss: 0.0269 - mean_squared_error: 0.0269\n",
            "Epoch 66/500\n",
            "11/11 [==============================] - 0s 3ms/step - loss: 0.0257 - mean_squared_error: 0.0257\n",
            "Epoch 67/500\n",
            "11/11 [==============================] - 0s 3ms/step - loss: 0.0341 - mean_squared_error: 0.0341\n",
            "Epoch 68/500\n",
            "11/11 [==============================] - 0s 3ms/step - loss: 0.0458 - mean_squared_error: 0.0458\n",
            "Epoch 69/500\n",
            "11/11 [==============================] - 0s 4ms/step - loss: 0.0383 - mean_squared_error: 0.0383\n",
            "Epoch 70/500\n",
            "11/11 [==============================] - 0s 4ms/step - loss: 0.0262 - mean_squared_error: 0.0262\n",
            "Epoch 71/500\n",
            "11/11 [==============================] - 0s 3ms/step - loss: 0.0253 - mean_squared_error: 0.0253\n",
            "Epoch 72/500\n",
            "11/11 [==============================] - 0s 3ms/step - loss: 0.0411 - mean_squared_error: 0.0411\n",
            "Epoch 73/500\n",
            "11/11 [==============================] - 0s 4ms/step - loss: 0.0332 - mean_squared_error: 0.0332\n",
            "Epoch 74/500\n",
            "11/11 [==============================] - 0s 3ms/step - loss: 0.0304 - mean_squared_error: 0.0304\n",
            "Epoch 75/500\n",
            "11/11 [==============================] - 0s 3ms/step - loss: 0.0254 - mean_squared_error: 0.0254\n",
            "Epoch 76/500\n",
            "11/11 [==============================] - 0s 4ms/step - loss: 0.0195 - mean_squared_error: 0.0195\n",
            "Epoch 77/500\n",
            "11/11 [==============================] - 0s 3ms/step - loss: 0.0295 - mean_squared_error: 0.0295\n",
            "Epoch 78/500\n",
            "11/11 [==============================] - 0s 3ms/step - loss: 0.0261 - mean_squared_error: 0.0261\n",
            "Epoch 79/500\n",
            "11/11 [==============================] - 0s 3ms/step - loss: 0.0313 - mean_squared_error: 0.0313\n",
            "Epoch 80/500\n",
            "11/11 [==============================] - 0s 3ms/step - loss: 0.0418 - mean_squared_error: 0.0418\n",
            "Epoch 81/500\n",
            "11/11 [==============================] - 0s 3ms/step - loss: 0.0329 - mean_squared_error: 0.0329\n",
            "Epoch 82/500\n",
            "11/11 [==============================] - 0s 3ms/step - loss: 0.0382 - mean_squared_error: 0.0382\n",
            "Epoch 83/500\n",
            "11/11 [==============================] - 0s 4ms/step - loss: 0.0270 - mean_squared_error: 0.0270\n",
            "Epoch 84/500\n",
            "11/11 [==============================] - 0s 3ms/step - loss: 0.0337 - mean_squared_error: 0.0337\n",
            "Epoch 85/500\n",
            "11/11 [==============================] - 0s 3ms/step - loss: 0.0524 - mean_squared_error: 0.0524\n",
            "Epoch 86/500\n",
            "11/11 [==============================] - 0s 3ms/step - loss: 0.0366 - mean_squared_error: 0.0366\n",
            "Epoch 87/500\n",
            "11/11 [==============================] - 0s 4ms/step - loss: 0.0299 - mean_squared_error: 0.0299\n",
            "Epoch 88/500\n",
            "11/11 [==============================] - 0s 3ms/step - loss: 0.0187 - mean_squared_error: 0.0187\n",
            "Epoch 89/500\n",
            "11/11 [==============================] - 0s 4ms/step - loss: 0.0267 - mean_squared_error: 0.0267\n",
            "Epoch 90/500\n",
            "11/11 [==============================] - 0s 4ms/step - loss: 0.0284 - mean_squared_error: 0.0284\n",
            "Epoch 91/500\n",
            "11/11 [==============================] - 0s 3ms/step - loss: 0.0330 - mean_squared_error: 0.0330\n",
            "Epoch 92/500\n",
            "11/11 [==============================] - 0s 3ms/step - loss: 0.0349 - mean_squared_error: 0.0349\n",
            "Epoch 93/500\n",
            "11/11 [==============================] - 0s 4ms/step - loss: 0.0309 - mean_squared_error: 0.0309\n",
            "Epoch 94/500\n",
            "11/11 [==============================] - 0s 3ms/step - loss: 0.0250 - mean_squared_error: 0.0250\n",
            "Epoch 95/500\n",
            "11/11 [==============================] - 0s 3ms/step - loss: 0.0356 - mean_squared_error: 0.0356\n",
            "Epoch 96/500\n",
            "11/11 [==============================] - 0s 3ms/step - loss: 0.0267 - mean_squared_error: 0.0267\n",
            "Epoch 97/500\n",
            "11/11 [==============================] - 0s 3ms/step - loss: 0.0349 - mean_squared_error: 0.0349\n",
            "Epoch 98/500\n",
            "11/11 [==============================] - 0s 3ms/step - loss: 0.0284 - mean_squared_error: 0.0284\n",
            "Epoch 99/500\n",
            "11/11 [==============================] - 0s 3ms/step - loss: 0.0218 - mean_squared_error: 0.0218\n",
            "Epoch 100/500\n",
            "11/11 [==============================] - 0s 3ms/step - loss: 0.0294 - mean_squared_error: 0.0294\n",
            "Epoch 101/500\n",
            "11/11 [==============================] - 0s 4ms/step - loss: 0.0216 - mean_squared_error: 0.0216\n",
            "Epoch 102/500\n",
            "11/11 [==============================] - 0s 5ms/step - loss: 0.0330 - mean_squared_error: 0.0330\n",
            "Epoch 103/500\n",
            "11/11 [==============================] - 0s 3ms/step - loss: 0.0224 - mean_squared_error: 0.0224\n",
            "Epoch 104/500\n",
            "11/11 [==============================] - 0s 3ms/step - loss: 0.0215 - mean_squared_error: 0.0215\n",
            "Epoch 105/500\n",
            "11/11 [==============================] - 0s 3ms/step - loss: 0.0330 - mean_squared_error: 0.0330\n",
            "Epoch 106/500\n",
            "11/11 [==============================] - 0s 3ms/step - loss: 0.0276 - mean_squared_error: 0.0276\n",
            "Epoch 107/500\n",
            "11/11 [==============================] - 0s 3ms/step - loss: 0.0254 - mean_squared_error: 0.0254\n",
            "Epoch 108/500\n",
            "11/11 [==============================] - 0s 3ms/step - loss: 0.0379 - mean_squared_error: 0.0379\n",
            "Epoch 109/500\n",
            "11/11 [==============================] - 0s 3ms/step - loss: 0.0370 - mean_squared_error: 0.0370\n",
            "Epoch 110/500\n",
            "11/11 [==============================] - 0s 3ms/step - loss: 0.0321 - mean_squared_error: 0.0321\n",
            "Epoch 111/500\n",
            "11/11 [==============================] - 0s 3ms/step - loss: 0.0263 - mean_squared_error: 0.0263\n",
            "Epoch 112/500\n",
            "11/11 [==============================] - 0s 3ms/step - loss: 0.0292 - mean_squared_error: 0.0292\n",
            "Epoch 113/500\n",
            "11/11 [==============================] - 0s 5ms/step - loss: 0.0349 - mean_squared_error: 0.0349\n",
            "Epoch 114/500\n",
            "11/11 [==============================] - 0s 3ms/step - loss: 0.0332 - mean_squared_error: 0.0332\n",
            "Epoch 115/500\n",
            "11/11 [==============================] - 0s 4ms/step - loss: 0.0218 - mean_squared_error: 0.0218\n",
            "Epoch 116/500\n",
            "11/11 [==============================] - 0s 3ms/step - loss: 0.0220 - mean_squared_error: 0.0220\n",
            "Epoch 117/500\n",
            "11/11 [==============================] - 0s 3ms/step - loss: 0.0264 - mean_squared_error: 0.0264\n",
            "Epoch 118/500\n",
            "11/11 [==============================] - 0s 3ms/step - loss: 0.0133 - mean_squared_error: 0.0133\n",
            "Epoch 119/500\n",
            "11/11 [==============================] - 0s 4ms/step - loss: 0.0198 - mean_squared_error: 0.0198\n",
            "Epoch 120/500\n",
            "11/11 [==============================] - 0s 3ms/step - loss: 0.0271 - mean_squared_error: 0.0271\n",
            "Epoch 121/500\n",
            "11/11 [==============================] - 0s 3ms/step - loss: 0.0209 - mean_squared_error: 0.0209\n",
            "Epoch 122/500\n",
            "11/11 [==============================] - 0s 3ms/step - loss: 0.0184 - mean_squared_error: 0.0184\n",
            "Epoch 123/500\n",
            "11/11 [==============================] - 0s 3ms/step - loss: 0.0225 - mean_squared_error: 0.0225\n",
            "Epoch 124/500\n",
            "11/11 [==============================] - 0s 3ms/step - loss: 0.0220 - mean_squared_error: 0.0220\n",
            "Epoch 125/500\n",
            "11/11 [==============================] - 0s 3ms/step - loss: 0.0374 - mean_squared_error: 0.0374\n",
            "Epoch 126/500\n",
            "11/11 [==============================] - 0s 3ms/step - loss: 0.0200 - mean_squared_error: 0.0200\n",
            "Epoch 127/500\n",
            "11/11 [==============================] - 0s 3ms/step - loss: 0.0265 - mean_squared_error: 0.0265\n",
            "Epoch 128/500\n",
            "11/11 [==============================] - 0s 4ms/step - loss: 0.0215 - mean_squared_error: 0.0215\n",
            "Epoch 129/500\n",
            "11/11 [==============================] - 0s 3ms/step - loss: 0.0304 - mean_squared_error: 0.0304\n",
            "Epoch 130/500\n",
            "11/11 [==============================] - 0s 4ms/step - loss: 0.0219 - mean_squared_error: 0.0219\n",
            "Epoch 131/500\n",
            "11/11 [==============================] - 0s 3ms/step - loss: 0.0220 - mean_squared_error: 0.0220\n",
            "Epoch 132/500\n",
            "11/11 [==============================] - 0s 3ms/step - loss: 0.0363 - mean_squared_error: 0.0363\n",
            "Epoch 133/500\n",
            "11/11 [==============================] - 0s 3ms/step - loss: 0.0281 - mean_squared_error: 0.0281\n",
            "Epoch 134/500\n",
            "11/11 [==============================] - 0s 3ms/step - loss: 0.0290 - mean_squared_error: 0.0290\n",
            "Epoch 135/500\n",
            "11/11 [==============================] - 0s 4ms/step - loss: 0.0184 - mean_squared_error: 0.0184\n",
            "Epoch 136/500\n",
            "11/11 [==============================] - 0s 4ms/step - loss: 0.0241 - mean_squared_error: 0.0241\n",
            "Epoch 137/500\n",
            "11/11 [==============================] - 0s 3ms/step - loss: 0.0204 - mean_squared_error: 0.0204\n",
            "Epoch 138/500\n",
            "11/11 [==============================] - 0s 3ms/step - loss: 0.0208 - mean_squared_error: 0.0208\n",
            "Epoch 139/500\n",
            "11/11 [==============================] - 0s 4ms/step - loss: 0.0261 - mean_squared_error: 0.0261\n",
            "Epoch 140/500\n",
            "11/11 [==============================] - 0s 4ms/step - loss: 0.0284 - mean_squared_error: 0.0284\n",
            "Epoch 141/500\n",
            "11/11 [==============================] - 0s 4ms/step - loss: 0.0259 - mean_squared_error: 0.0259\n",
            "Epoch 142/500\n",
            "11/11 [==============================] - 0s 3ms/step - loss: 0.0226 - mean_squared_error: 0.0226\n",
            "Epoch 143/500\n",
            "11/11 [==============================] - 0s 4ms/step - loss: 0.0237 - mean_squared_error: 0.0237\n",
            "Epoch 144/500\n",
            "11/11 [==============================] - 0s 4ms/step - loss: 0.0285 - mean_squared_error: 0.0285\n",
            "Epoch 145/500\n",
            "11/11 [==============================] - 0s 3ms/step - loss: 0.0185 - mean_squared_error: 0.0185\n",
            "Epoch 146/500\n",
            "11/11 [==============================] - 0s 4ms/step - loss: 0.0159 - mean_squared_error: 0.0159\n",
            "Epoch 147/500\n",
            "11/11 [==============================] - 0s 3ms/step - loss: 0.0242 - mean_squared_error: 0.0242\n",
            "Epoch 148/500\n",
            "11/11 [==============================] - 0s 3ms/step - loss: 0.0211 - mean_squared_error: 0.0211\n",
            "Epoch 149/500\n",
            "11/11 [==============================] - 0s 3ms/step - loss: 0.0239 - mean_squared_error: 0.0239\n",
            "Epoch 150/500\n",
            "11/11 [==============================] - 0s 4ms/step - loss: 0.0209 - mean_squared_error: 0.0209\n",
            "Epoch 151/500\n",
            "11/11 [==============================] - 0s 3ms/step - loss: 0.0254 - mean_squared_error: 0.0254\n",
            "Epoch 152/500\n",
            "11/11 [==============================] - 0s 3ms/step - loss: 0.0268 - mean_squared_error: 0.0268\n",
            "Epoch 153/500\n",
            "11/11 [==============================] - 0s 3ms/step - loss: 0.0242 - mean_squared_error: 0.0242\n",
            "Epoch 154/500\n",
            "11/11 [==============================] - 0s 3ms/step - loss: 0.0323 - mean_squared_error: 0.0323\n",
            "Epoch 155/500\n",
            "11/11 [==============================] - 0s 3ms/step - loss: 0.0225 - mean_squared_error: 0.0225\n",
            "Epoch 156/500\n",
            "11/11 [==============================] - 0s 3ms/step - loss: 0.0263 - mean_squared_error: 0.0263\n",
            "Epoch 157/500\n",
            "11/11 [==============================] - 0s 5ms/step - loss: 0.0255 - mean_squared_error: 0.0255\n",
            "Epoch 158/500\n",
            "11/11 [==============================] - 0s 4ms/step - loss: 0.0264 - mean_squared_error: 0.0264\n",
            "Epoch 159/500\n",
            "11/11 [==============================] - 0s 3ms/step - loss: 0.0180 - mean_squared_error: 0.0180\n",
            "Epoch 160/500\n",
            "11/11 [==============================] - 0s 4ms/step - loss: 0.0201 - mean_squared_error: 0.0201\n",
            "Epoch 161/500\n",
            "11/11 [==============================] - 0s 4ms/step - loss: 0.0302 - mean_squared_error: 0.0302\n",
            "Epoch 162/500\n",
            "11/11 [==============================] - 0s 4ms/step - loss: 0.0232 - mean_squared_error: 0.0232\n",
            "Epoch 163/500\n",
            "11/11 [==============================] - 0s 3ms/step - loss: 0.0273 - mean_squared_error: 0.0273\n",
            "Epoch 164/500\n",
            "11/11 [==============================] - 0s 3ms/step - loss: 0.0121 - mean_squared_error: 0.0121\n",
            "Epoch 165/500\n",
            "11/11 [==============================] - 0s 3ms/step - loss: 0.0267 - mean_squared_error: 0.0267\n",
            "Epoch 166/500\n",
            "11/11 [==============================] - 0s 3ms/step - loss: 0.0183 - mean_squared_error: 0.0183\n",
            "Epoch 167/500\n",
            "11/11 [==============================] - 0s 3ms/step - loss: 0.0161 - mean_squared_error: 0.0161\n",
            "Epoch 168/500\n",
            "11/11 [==============================] - 0s 3ms/step - loss: 0.0279 - mean_squared_error: 0.0279\n",
            "Epoch 169/500\n",
            "11/11 [==============================] - 0s 3ms/step - loss: 0.0175 - mean_squared_error: 0.0175\n",
            "Epoch 170/500\n",
            "11/11 [==============================] - 0s 3ms/step - loss: 0.0234 - mean_squared_error: 0.0234\n",
            "Epoch 171/500\n",
            "11/11 [==============================] - 0s 3ms/step - loss: 0.0258 - mean_squared_error: 0.0258\n",
            "Epoch 172/500\n",
            "11/11 [==============================] - 0s 4ms/step - loss: 0.0412 - mean_squared_error: 0.0412\n",
            "Epoch 173/500\n",
            "11/11 [==============================] - 0s 3ms/step - loss: 0.0221 - mean_squared_error: 0.0221\n",
            "Epoch 174/500\n",
            "11/11 [==============================] - 0s 3ms/step - loss: 0.0207 - mean_squared_error: 0.0207\n",
            "Epoch 175/500\n",
            "11/11 [==============================] - 0s 3ms/step - loss: 0.0227 - mean_squared_error: 0.0227\n",
            "Epoch 176/500\n",
            "11/11 [==============================] - 0s 3ms/step - loss: 0.0191 - mean_squared_error: 0.0191\n",
            "Epoch 177/500\n",
            "11/11 [==============================] - 0s 3ms/step - loss: 0.0193 - mean_squared_error: 0.0193\n",
            "Epoch 178/500\n",
            "11/11 [==============================] - 0s 3ms/step - loss: 0.0274 - mean_squared_error: 0.0274\n",
            "Epoch 179/500\n",
            "11/11 [==============================] - 0s 4ms/step - loss: 0.0202 - mean_squared_error: 0.0202\n",
            "Epoch 180/500\n",
            "11/11 [==============================] - 0s 4ms/step - loss: 0.0270 - mean_squared_error: 0.0270\n",
            "Epoch 181/500\n",
            "11/11 [==============================] - 0s 4ms/step - loss: 0.0215 - mean_squared_error: 0.0215\n",
            "Epoch 182/500\n",
            "11/11 [==============================] - 0s 3ms/step - loss: 0.0247 - mean_squared_error: 0.0247\n",
            "Epoch 183/500\n",
            "11/11 [==============================] - 0s 4ms/step - loss: 0.0288 - mean_squared_error: 0.0288\n",
            "Epoch 184/500\n",
            "11/11 [==============================] - 0s 4ms/step - loss: 0.0366 - mean_squared_error: 0.0366\n",
            "Epoch 185/500\n",
            "11/11 [==============================] - 0s 3ms/step - loss: 0.0243 - mean_squared_error: 0.0243\n",
            "Epoch 186/500\n",
            "11/11 [==============================] - 0s 3ms/step - loss: 0.0307 - mean_squared_error: 0.0307\n",
            "Epoch 187/500\n",
            "11/11 [==============================] - 0s 3ms/step - loss: 0.0167 - mean_squared_error: 0.0167\n",
            "Epoch 188/500\n",
            "11/11 [==============================] - 0s 4ms/step - loss: 0.0259 - mean_squared_error: 0.0259\n",
            "Epoch 189/500\n",
            "11/11 [==============================] - 0s 3ms/step - loss: 0.0228 - mean_squared_error: 0.0228\n",
            "Epoch 190/500\n",
            "11/11 [==============================] - 0s 3ms/step - loss: 0.0229 - mean_squared_error: 0.0229\n",
            "Epoch 191/500\n",
            "11/11 [==============================] - 0s 3ms/step - loss: 0.0157 - mean_squared_error: 0.0157\n",
            "Epoch 192/500\n",
            "11/11 [==============================] - 0s 4ms/step - loss: 0.0178 - mean_squared_error: 0.0178\n",
            "Epoch 193/500\n",
            "11/11 [==============================] - 0s 4ms/step - loss: 0.0259 - mean_squared_error: 0.0259\n",
            "Epoch 194/500\n",
            "11/11 [==============================] - 0s 3ms/step - loss: 0.0183 - mean_squared_error: 0.0183\n",
            "Epoch 195/500\n",
            "11/11 [==============================] - 0s 4ms/step - loss: 0.0147 - mean_squared_error: 0.0147\n",
            "Epoch 196/500\n",
            "11/11 [==============================] - 0s 4ms/step - loss: 0.0156 - mean_squared_error: 0.0156\n",
            "Epoch 197/500\n",
            "11/11 [==============================] - 0s 4ms/step - loss: 0.0159 - mean_squared_error: 0.0159\n",
            "Epoch 198/500\n",
            "11/11 [==============================] - 0s 4ms/step - loss: 0.0151 - mean_squared_error: 0.0151\n",
            "Epoch 199/500\n",
            "11/11 [==============================] - 0s 4ms/step - loss: 0.0219 - mean_squared_error: 0.0219\n",
            "Epoch 200/500\n",
            "11/11 [==============================] - 0s 4ms/step - loss: 0.0207 - mean_squared_error: 0.0207\n",
            "Epoch 201/500\n",
            "11/11 [==============================] - 0s 3ms/step - loss: 0.0219 - mean_squared_error: 0.0219\n",
            "Epoch 202/500\n",
            "11/11 [==============================] - 0s 3ms/step - loss: 0.0210 - mean_squared_error: 0.0210\n",
            "Epoch 203/500\n",
            "11/11 [==============================] - 0s 4ms/step - loss: 0.0272 - mean_squared_error: 0.0272\n",
            "Epoch 204/500\n",
            "11/11 [==============================] - 0s 3ms/step - loss: 0.0199 - mean_squared_error: 0.0199\n",
            "Epoch 205/500\n",
            "11/11 [==============================] - 0s 3ms/step - loss: 0.0172 - mean_squared_error: 0.0172\n",
            "Epoch 206/500\n",
            "11/11 [==============================] - 0s 3ms/step - loss: 0.0117 - mean_squared_error: 0.0117\n",
            "Epoch 207/500\n",
            "11/11 [==============================] - 0s 4ms/step - loss: 0.0185 - mean_squared_error: 0.0185\n",
            "Epoch 208/500\n",
            "11/11 [==============================] - 0s 3ms/step - loss: 0.0218 - mean_squared_error: 0.0218\n",
            "Epoch 209/500\n",
            "11/11 [==============================] - 0s 3ms/step - loss: 0.0207 - mean_squared_error: 0.0207\n",
            "Epoch 210/500\n",
            "11/11 [==============================] - 0s 3ms/step - loss: 0.0220 - mean_squared_error: 0.0220\n",
            "Epoch 211/500\n",
            "11/11 [==============================] - 0s 4ms/step - loss: 0.0142 - mean_squared_error: 0.0142\n",
            "Epoch 212/500\n",
            "11/11 [==============================] - 0s 3ms/step - loss: 0.0225 - mean_squared_error: 0.0225\n",
            "Epoch 213/500\n",
            "11/11 [==============================] - 0s 4ms/step - loss: 0.0096 - mean_squared_error: 0.0096\n",
            "Epoch 214/500\n",
            "11/11 [==============================] - 0s 4ms/step - loss: 0.0276 - mean_squared_error: 0.0276\n",
            "Epoch 215/500\n",
            "11/11 [==============================] - 0s 4ms/step - loss: 0.0158 - mean_squared_error: 0.0158\n",
            "Epoch 216/500\n",
            "11/11 [==============================] - 0s 3ms/step - loss: 0.0261 - mean_squared_error: 0.0261\n",
            "Epoch 217/500\n",
            "11/11 [==============================] - 0s 3ms/step - loss: 0.0193 - mean_squared_error: 0.0193\n",
            "Epoch 218/500\n",
            "11/11 [==============================] - 0s 3ms/step - loss: 0.0237 - mean_squared_error: 0.0237\n",
            "Epoch 219/500\n",
            "11/11 [==============================] - 0s 4ms/step - loss: 0.0232 - mean_squared_error: 0.0232\n",
            "Epoch 220/500\n",
            "11/11 [==============================] - 0s 4ms/step - loss: 0.0303 - mean_squared_error: 0.0303\n",
            "Epoch 221/500\n",
            "11/11 [==============================] - 0s 3ms/step - loss: 0.0198 - mean_squared_error: 0.0198\n",
            "Epoch 222/500\n",
            "11/11 [==============================] - 0s 4ms/step - loss: 0.0179 - mean_squared_error: 0.0179\n",
            "Epoch 223/500\n",
            "11/11 [==============================] - 0s 4ms/step - loss: 0.0272 - mean_squared_error: 0.0272\n",
            "Epoch 224/500\n",
            "11/11 [==============================] - 0s 3ms/step - loss: 0.0132 - mean_squared_error: 0.0132\n",
            "Epoch 225/500\n",
            "11/11 [==============================] - 0s 4ms/step - loss: 0.0170 - mean_squared_error: 0.0170\n",
            "Epoch 226/500\n",
            "11/11 [==============================] - 0s 3ms/step - loss: 0.0211 - mean_squared_error: 0.0211\n",
            "Epoch 227/500\n",
            "11/11 [==============================] - 0s 3ms/step - loss: 0.0150 - mean_squared_error: 0.0150\n",
            "Epoch 228/500\n",
            "11/11 [==============================] - 0s 3ms/step - loss: 0.0142 - mean_squared_error: 0.0142\n",
            "Epoch 229/500\n",
            "11/11 [==============================] - 0s 3ms/step - loss: 0.0193 - mean_squared_error: 0.0193\n",
            "Epoch 230/500\n",
            "11/11 [==============================] - 0s 3ms/step - loss: 0.0217 - mean_squared_error: 0.0217\n",
            "Epoch 231/500\n",
            "11/11 [==============================] - 0s 3ms/step - loss: 0.0185 - mean_squared_error: 0.0185\n",
            "Epoch 232/500\n",
            "11/11 [==============================] - 0s 3ms/step - loss: 0.0158 - mean_squared_error: 0.0158\n",
            "Epoch 233/500\n",
            "11/11 [==============================] - 0s 3ms/step - loss: 0.0162 - mean_squared_error: 0.0162\n",
            "Epoch 234/500\n",
            "11/11 [==============================] - 0s 3ms/step - loss: 0.0187 - mean_squared_error: 0.0187\n",
            "Epoch 235/500\n",
            "11/11 [==============================] - 0s 4ms/step - loss: 0.0141 - mean_squared_error: 0.0141\n",
            "Epoch 236/500\n",
            "11/11 [==============================] - 0s 4ms/step - loss: 0.0204 - mean_squared_error: 0.0204\n",
            "Epoch 237/500\n",
            "11/11 [==============================] - 0s 3ms/step - loss: 0.0173 - mean_squared_error: 0.0173\n",
            "Epoch 238/500\n",
            "11/11 [==============================] - 0s 3ms/step - loss: 0.0215 - mean_squared_error: 0.0215\n",
            "Epoch 239/500\n",
            "11/11 [==============================] - 0s 4ms/step - loss: 0.0191 - mean_squared_error: 0.0191\n",
            "Epoch 240/500\n",
            "11/11 [==============================] - 0s 6ms/step - loss: 0.0173 - mean_squared_error: 0.0173\n",
            "Epoch 241/500\n",
            "11/11 [==============================] - 0s 4ms/step - loss: 0.0226 - mean_squared_error: 0.0226\n",
            "Epoch 242/500\n",
            "11/11 [==============================] - 0s 3ms/step - loss: 0.0240 - mean_squared_error: 0.0240\n",
            "Epoch 243/500\n",
            "11/11 [==============================] - 0s 3ms/step - loss: 0.0187 - mean_squared_error: 0.0187\n",
            "Epoch 244/500\n",
            "11/11 [==============================] - 0s 3ms/step - loss: 0.0209 - mean_squared_error: 0.0209\n",
            "Epoch 245/500\n",
            "11/11 [==============================] - 0s 3ms/step - loss: 0.0126 - mean_squared_error: 0.0126\n",
            "Epoch 246/500\n",
            "11/11 [==============================] - 0s 3ms/step - loss: 0.0151 - mean_squared_error: 0.0151\n",
            "Epoch 247/500\n",
            "11/11 [==============================] - 0s 3ms/step - loss: 0.0151 - mean_squared_error: 0.0151\n",
            "Epoch 248/500\n",
            "11/11 [==============================] - 0s 4ms/step - loss: 0.0192 - mean_squared_error: 0.0192\n",
            "Epoch 249/500\n",
            "11/11 [==============================] - 0s 3ms/step - loss: 0.0185 - mean_squared_error: 0.0185\n",
            "Epoch 250/500\n",
            "11/11 [==============================] - 0s 4ms/step - loss: 0.0213 - mean_squared_error: 0.0213\n",
            "Epoch 251/500\n",
            "11/11 [==============================] - 0s 3ms/step - loss: 0.0138 - mean_squared_error: 0.0138\n",
            "Epoch 252/500\n",
            "11/11 [==============================] - 0s 3ms/step - loss: 0.0218 - mean_squared_error: 0.0218\n",
            "Epoch 253/500\n",
            "11/11 [==============================] - 0s 3ms/step - loss: 0.0263 - mean_squared_error: 0.0263\n",
            "Epoch 254/500\n",
            "11/11 [==============================] - 0s 4ms/step - loss: 0.0170 - mean_squared_error: 0.0170\n",
            "Epoch 255/500\n",
            "11/11 [==============================] - 0s 3ms/step - loss: 0.0158 - mean_squared_error: 0.0158\n",
            "Epoch 256/500\n",
            "11/11 [==============================] - 0s 3ms/step - loss: 0.0121 - mean_squared_error: 0.0121\n",
            "Epoch 257/500\n",
            "11/11 [==============================] - 0s 3ms/step - loss: 0.0131 - mean_squared_error: 0.0131\n",
            "Epoch 258/500\n",
            "11/11 [==============================] - 0s 3ms/step - loss: 0.0191 - mean_squared_error: 0.0191\n",
            "Epoch 259/500\n",
            "11/11 [==============================] - 0s 3ms/step - loss: 0.0169 - mean_squared_error: 0.0169\n",
            "Epoch 260/500\n",
            "11/11 [==============================] - 0s 3ms/step - loss: 0.0166 - mean_squared_error: 0.0166\n",
            "Epoch 261/500\n",
            "11/11 [==============================] - 0s 4ms/step - loss: 0.0199 - mean_squared_error: 0.0199\n",
            "Epoch 262/500\n",
            "11/11 [==============================] - 0s 4ms/step - loss: 0.0121 - mean_squared_error: 0.0121\n",
            "Epoch 263/500\n",
            "11/11 [==============================] - 0s 3ms/step - loss: 0.0099 - mean_squared_error: 0.0099\n",
            "Epoch 264/500\n",
            "11/11 [==============================] - 0s 3ms/step - loss: 0.0259 - mean_squared_error: 0.0259\n",
            "Epoch 265/500\n",
            "11/11 [==============================] - 0s 3ms/step - loss: 0.0196 - mean_squared_error: 0.0196\n",
            "Epoch 266/500\n",
            "11/11 [==============================] - 0s 3ms/step - loss: 0.0128 - mean_squared_error: 0.0128\n",
            "Epoch 267/500\n",
            "11/11 [==============================] - 0s 4ms/step - loss: 0.0146 - mean_squared_error: 0.0146\n",
            "Epoch 268/500\n",
            "11/11 [==============================] - 0s 4ms/step - loss: 0.0247 - mean_squared_error: 0.0247\n",
            "Epoch 269/500\n",
            "11/11 [==============================] - 0s 3ms/step - loss: 0.0129 - mean_squared_error: 0.0129\n",
            "Epoch 270/500\n",
            "11/11 [==============================] - 0s 4ms/step - loss: 0.0183 - mean_squared_error: 0.0183\n",
            "Epoch 271/500\n",
            "11/11 [==============================] - 0s 3ms/step - loss: 0.0178 - mean_squared_error: 0.0178\n",
            "Epoch 272/500\n",
            "11/11 [==============================] - 0s 3ms/step - loss: 0.0158 - mean_squared_error: 0.0158\n",
            "Epoch 273/500\n",
            "11/11 [==============================] - 0s 3ms/step - loss: 0.0176 - mean_squared_error: 0.0176\n",
            "Epoch 274/500\n",
            "11/11 [==============================] - 0s 4ms/step - loss: 0.0195 - mean_squared_error: 0.0195\n",
            "Epoch 275/500\n",
            "11/11 [==============================] - 0s 4ms/step - loss: 0.0172 - mean_squared_error: 0.0172\n",
            "Epoch 276/500\n",
            "11/11 [==============================] - 0s 3ms/step - loss: 0.0213 - mean_squared_error: 0.0213\n",
            "Epoch 277/500\n",
            "11/11 [==============================] - 0s 3ms/step - loss: 0.0184 - mean_squared_error: 0.0184\n",
            "Epoch 278/500\n",
            "11/11 [==============================] - 0s 3ms/step - loss: 0.0160 - mean_squared_error: 0.0160\n",
            "Epoch 279/500\n",
            "11/11 [==============================] - 0s 4ms/step - loss: 0.0177 - mean_squared_error: 0.0177\n",
            "Epoch 280/500\n",
            "11/11 [==============================] - 0s 3ms/step - loss: 0.0252 - mean_squared_error: 0.0252\n",
            "Epoch 281/500\n",
            "11/11 [==============================] - 0s 4ms/step - loss: 0.0197 - mean_squared_error: 0.0197\n",
            "Epoch 282/500\n",
            "11/11 [==============================] - 0s 3ms/step - loss: 0.0121 - mean_squared_error: 0.0121\n",
            "Epoch 283/500\n",
            "11/11 [==============================] - 0s 4ms/step - loss: 0.0150 - mean_squared_error: 0.0150\n",
            "Epoch 284/500\n",
            "11/11 [==============================] - 0s 3ms/step - loss: 0.0227 - mean_squared_error: 0.0227\n",
            "Epoch 285/500\n",
            "11/11 [==============================] - 0s 3ms/step - loss: 0.0167 - mean_squared_error: 0.0167\n",
            "Epoch 286/500\n",
            "11/11 [==============================] - 0s 4ms/step - loss: 0.0132 - mean_squared_error: 0.0132\n",
            "Epoch 287/500\n",
            "11/11 [==============================] - 0s 3ms/step - loss: 0.0096 - mean_squared_error: 0.0096\n",
            "Epoch 288/500\n",
            "11/11 [==============================] - 0s 3ms/step - loss: 0.0128 - mean_squared_error: 0.0128\n",
            "Epoch 289/500\n",
            "11/11 [==============================] - 0s 3ms/step - loss: 0.0120 - mean_squared_error: 0.0120\n",
            "Epoch 290/500\n",
            "11/11 [==============================] - 0s 4ms/step - loss: 0.0120 - mean_squared_error: 0.0120\n",
            "Epoch 291/500\n",
            "11/11 [==============================] - 0s 3ms/step - loss: 0.0150 - mean_squared_error: 0.0150\n",
            "Epoch 292/500\n",
            "11/11 [==============================] - 0s 3ms/step - loss: 0.0138 - mean_squared_error: 0.0138\n",
            "Epoch 293/500\n",
            "11/11 [==============================] - 0s 3ms/step - loss: 0.0127 - mean_squared_error: 0.0127\n",
            "Epoch 294/500\n",
            "11/11 [==============================] - 0s 3ms/step - loss: 0.0143 - mean_squared_error: 0.0143\n",
            "Epoch 295/500\n",
            "11/11 [==============================] - 0s 3ms/step - loss: 0.0243 - mean_squared_error: 0.0243\n",
            "Epoch 296/500\n",
            "11/11 [==============================] - 0s 4ms/step - loss: 0.0172 - mean_squared_error: 0.0172\n",
            "Epoch 297/500\n",
            "11/11 [==============================] - 0s 3ms/step - loss: 0.0227 - mean_squared_error: 0.0227\n",
            "Epoch 298/500\n",
            "11/11 [==============================] - 0s 3ms/step - loss: 0.0112 - mean_squared_error: 0.0112\n",
            "Epoch 299/500\n",
            "11/11 [==============================] - 0s 3ms/step - loss: 0.0134 - mean_squared_error: 0.0134\n",
            "Epoch 300/500\n",
            "11/11 [==============================] - 0s 3ms/step - loss: 0.0199 - mean_squared_error: 0.0199\n",
            "Epoch 301/500\n",
            "11/11 [==============================] - 0s 3ms/step - loss: 0.0168 - mean_squared_error: 0.0168\n",
            "Epoch 302/500\n",
            "11/11 [==============================] - 0s 3ms/step - loss: 0.0124 - mean_squared_error: 0.0124\n",
            "Epoch 303/500\n",
            "11/11 [==============================] - 0s 4ms/step - loss: 0.0189 - mean_squared_error: 0.0189\n",
            "Epoch 304/500\n",
            "11/11 [==============================] - 0s 3ms/step - loss: 0.0160 - mean_squared_error: 0.0160\n",
            "Epoch 305/500\n",
            "11/11 [==============================] - 0s 4ms/step - loss: 0.0142 - mean_squared_error: 0.0142\n",
            "Epoch 306/500\n",
            "11/11 [==============================] - 0s 3ms/step - loss: 0.0117 - mean_squared_error: 0.0117\n",
            "Epoch 307/500\n",
            "11/11 [==============================] - 0s 3ms/step - loss: 0.0135 - mean_squared_error: 0.0135\n",
            "Epoch 308/500\n",
            "11/11 [==============================] - 0s 3ms/step - loss: 0.0106 - mean_squared_error: 0.0106\n",
            "Epoch 309/500\n",
            "11/11 [==============================] - 0s 3ms/step - loss: 0.0188 - mean_squared_error: 0.0188\n",
            "Epoch 310/500\n",
            "11/11 [==============================] - 0s 3ms/step - loss: 0.0147 - mean_squared_error: 0.0147\n",
            "Epoch 311/500\n",
            "11/11 [==============================] - 0s 3ms/step - loss: 0.0176 - mean_squared_error: 0.0176\n",
            "Epoch 312/500\n",
            "11/11 [==============================] - 0s 4ms/step - loss: 0.0188 - mean_squared_error: 0.0188\n",
            "Epoch 313/500\n",
            "11/11 [==============================] - 0s 3ms/step - loss: 0.0137 - mean_squared_error: 0.0137\n",
            "Epoch 314/500\n",
            "11/11 [==============================] - 0s 4ms/step - loss: 0.0133 - mean_squared_error: 0.0133\n",
            "Epoch 315/500\n",
            "11/11 [==============================] - 0s 3ms/step - loss: 0.0169 - mean_squared_error: 0.0169\n",
            "Epoch 316/500\n",
            "11/11 [==============================] - 0s 4ms/step - loss: 0.0084 - mean_squared_error: 0.0084\n",
            "Epoch 317/500\n",
            "11/11 [==============================] - 0s 3ms/step - loss: 0.0145 - mean_squared_error: 0.0145\n",
            "Epoch 318/500\n",
            "11/11 [==============================] - 0s 3ms/step - loss: 0.0201 - mean_squared_error: 0.0201\n",
            "Epoch 319/500\n",
            "11/11 [==============================] - 0s 4ms/step - loss: 0.0128 - mean_squared_error: 0.0128\n",
            "Epoch 320/500\n",
            "11/11 [==============================] - 0s 4ms/step - loss: 0.0159 - mean_squared_error: 0.0159\n",
            "Epoch 321/500\n",
            "11/11 [==============================] - 0s 3ms/step - loss: 0.0223 - mean_squared_error: 0.0223\n",
            "Epoch 322/500\n",
            "11/11 [==============================] - 0s 3ms/step - loss: 0.0112 - mean_squared_error: 0.0112\n",
            "Epoch 323/500\n",
            "11/11 [==============================] - 0s 3ms/step - loss: 0.0202 - mean_squared_error: 0.0202\n",
            "Epoch 324/500\n",
            "11/11 [==============================] - 0s 3ms/step - loss: 0.0173 - mean_squared_error: 0.0173\n",
            "Epoch 325/500\n",
            "11/11 [==============================] - 0s 3ms/step - loss: 0.0102 - mean_squared_error: 0.0102\n",
            "Epoch 326/500\n",
            "11/11 [==============================] - 0s 3ms/step - loss: 0.0165 - mean_squared_error: 0.0165\n",
            "Epoch 327/500\n",
            "11/11 [==============================] - 0s 4ms/step - loss: 0.0120 - mean_squared_error: 0.0120\n",
            "Epoch 328/500\n",
            "11/11 [==============================] - 0s 4ms/step - loss: 0.0197 - mean_squared_error: 0.0197\n",
            "Epoch 329/500\n",
            "11/11 [==============================] - 0s 3ms/step - loss: 0.0192 - mean_squared_error: 0.0192\n",
            "Epoch 330/500\n",
            "11/11 [==============================] - 0s 3ms/step - loss: 0.0114 - mean_squared_error: 0.0114\n",
            "Epoch 331/500\n",
            "11/11 [==============================] - 0s 3ms/step - loss: 0.0132 - mean_squared_error: 0.0132\n",
            "Epoch 332/500\n",
            "11/11 [==============================] - 0s 3ms/step - loss: 0.0130 - mean_squared_error: 0.0130    \n",
            "Epoch 333/500\n",
            "11/11 [==============================] - 0s 3ms/step - loss: 0.0115 - mean_squared_error: 0.0115\n",
            "Epoch 334/500\n",
            "11/11 [==============================] - 0s 3ms/step - loss: 0.0115 - mean_squared_error: 0.0115\n",
            "Epoch 335/500\n",
            "11/11 [==============================] - 0s 3ms/step - loss: 0.0101 - mean_squared_error: 0.0101\n",
            "Epoch 336/500\n",
            "11/11 [==============================] - 0s 3ms/step - loss: 0.0122 - mean_squared_error: 0.0122\n",
            "Epoch 337/500\n",
            "11/11 [==============================] - 0s 3ms/step - loss: 0.0120 - mean_squared_error: 0.0120\n",
            "Epoch 338/500\n",
            "11/11 [==============================] - 0s 3ms/step - loss: 0.0132 - mean_squared_error: 0.0132\n",
            "Epoch 339/500\n",
            "11/11 [==============================] - 0s 4ms/step - loss: 0.0090 - mean_squared_error: 0.0090\n",
            "Epoch 340/500\n",
            "11/11 [==============================] - 0s 3ms/step - loss: 0.0143 - mean_squared_error: 0.0143\n",
            "Epoch 341/500\n",
            "11/11 [==============================] - 0s 3ms/step - loss: 0.0149 - mean_squared_error: 0.0149\n",
            "Epoch 342/500\n",
            "11/11 [==============================] - 0s 4ms/step - loss: 0.0157 - mean_squared_error: 0.0157\n",
            "Epoch 343/500\n",
            "11/11 [==============================] - 0s 3ms/step - loss: 0.0141 - mean_squared_error: 0.0141\n",
            "Epoch 344/500\n",
            "11/11 [==============================] - 0s 3ms/step - loss: 0.0112 - mean_squared_error: 0.0112\n",
            "Epoch 345/500\n",
            "11/11 [==============================] - 0s 4ms/step - loss: 0.0148 - mean_squared_error: 0.0148\n",
            "Epoch 346/500\n",
            "11/11 [==============================] - 0s 3ms/step - loss: 0.0079 - mean_squared_error: 0.0079\n",
            "Epoch 347/500\n",
            "11/11 [==============================] - 0s 3ms/step - loss: 0.0141 - mean_squared_error: 0.0141\n",
            "Epoch 348/500\n",
            "11/11 [==============================] - 0s 4ms/step - loss: 0.0093 - mean_squared_error: 0.0093\n",
            "Epoch 349/500\n",
            "11/11 [==============================] - 0s 5ms/step - loss: 0.0172 - mean_squared_error: 0.0172\n",
            "Epoch 350/500\n",
            "11/11 [==============================] - 0s 3ms/step - loss: 0.0165 - mean_squared_error: 0.0165\n",
            "Epoch 351/500\n",
            "11/11 [==============================] - 0s 4ms/step - loss: 0.0139 - mean_squared_error: 0.0139\n",
            "Epoch 352/500\n",
            "11/11 [==============================] - 0s 4ms/step - loss: 0.0142 - mean_squared_error: 0.0142\n",
            "Epoch 353/500\n",
            "11/11 [==============================] - 0s 4ms/step - loss: 0.0183 - mean_squared_error: 0.0183\n",
            "Epoch 354/500\n",
            "11/11 [==============================] - 0s 3ms/step - loss: 0.0129 - mean_squared_error: 0.0129\n",
            "Epoch 355/500\n",
            "11/11 [==============================] - 0s 3ms/step - loss: 0.0161 - mean_squared_error: 0.0161\n",
            "Epoch 356/500\n",
            "11/11 [==============================] - 0s 3ms/step - loss: 0.0161 - mean_squared_error: 0.0161\n",
            "Epoch 357/500\n",
            "11/11 [==============================] - 0s 4ms/step - loss: 0.0183 - mean_squared_error: 0.0183\n",
            "Epoch 358/500\n",
            "11/11 [==============================] - 0s 4ms/step - loss: 0.0171 - mean_squared_error: 0.0171\n",
            "Epoch 359/500\n",
            "11/11 [==============================] - 0s 4ms/step - loss: 0.0144 - mean_squared_error: 0.0144\n",
            "Epoch 360/500\n",
            "11/11 [==============================] - 0s 4ms/step - loss: 0.0112 - mean_squared_error: 0.0112\n",
            "Epoch 361/500\n",
            "11/11 [==============================] - 0s 3ms/step - loss: 0.0175 - mean_squared_error: 0.0175\n",
            "Epoch 362/500\n",
            "11/11 [==============================] - 0s 3ms/step - loss: 0.0106 - mean_squared_error: 0.0106\n",
            "Epoch 363/500\n",
            "11/11 [==============================] - 0s 3ms/step - loss: 0.0172 - mean_squared_error: 0.0172\n",
            "Epoch 364/500\n",
            "11/11 [==============================] - 0s 4ms/step - loss: 0.0146 - mean_squared_error: 0.0146\n",
            "Epoch 365/500\n",
            "11/11 [==============================] - 0s 4ms/step - loss: 0.0107 - mean_squared_error: 0.0107\n",
            "Epoch 366/500\n",
            "11/11 [==============================] - 0s 4ms/step - loss: 0.0167 - mean_squared_error: 0.0167\n",
            "Epoch 367/500\n",
            "11/11 [==============================] - 0s 4ms/step - loss: 0.0131 - mean_squared_error: 0.0131\n",
            "Epoch 368/500\n",
            "11/11 [==============================] - 0s 3ms/step - loss: 0.0117 - mean_squared_error: 0.0117\n",
            "Epoch 369/500\n",
            "11/11 [==============================] - 0s 5ms/step - loss: 0.0119 - mean_squared_error: 0.0119\n",
            "Epoch 370/500\n",
            "11/11 [==============================] - 0s 5ms/step - loss: 0.0132 - mean_squared_error: 0.0132\n",
            "Epoch 371/500\n",
            "11/11 [==============================] - 0s 4ms/step - loss: 0.0148 - mean_squared_error: 0.0148\n",
            "Epoch 372/500\n",
            "11/11 [==============================] - 0s 3ms/step - loss: 0.0162 - mean_squared_error: 0.0162\n",
            "Epoch 373/500\n",
            "11/11 [==============================] - 0s 3ms/step - loss: 0.0137 - mean_squared_error: 0.0137\n",
            "Epoch 374/500\n",
            "11/11 [==============================] - 0s 4ms/step - loss: 0.0143 - mean_squared_error: 0.0143\n",
            "Epoch 375/500\n",
            "11/11 [==============================] - 0s 3ms/step - loss: 0.0168 - mean_squared_error: 0.0168\n",
            "Epoch 376/500\n",
            "11/11 [==============================] - 0s 3ms/step - loss: 0.0109 - mean_squared_error: 0.0109\n",
            "Epoch 377/500\n",
            "11/11 [==============================] - 0s 3ms/step - loss: 0.0164 - mean_squared_error: 0.0164\n",
            "Epoch 378/500\n",
            "11/11 [==============================] - 0s 3ms/step - loss: 0.0112 - mean_squared_error: 0.0112\n",
            "Epoch 379/500\n",
            "11/11 [==============================] - 0s 3ms/step - loss: 0.0140 - mean_squared_error: 0.0140\n",
            "Epoch 380/500\n",
            "11/11 [==============================] - 0s 4ms/step - loss: 0.0182 - mean_squared_error: 0.0182\n",
            "Epoch 381/500\n",
            "11/11 [==============================] - 0s 4ms/step - loss: 0.0125 - mean_squared_error: 0.0125\n",
            "Epoch 382/500\n",
            "11/11 [==============================] - 0s 4ms/step - loss: 0.0085 - mean_squared_error: 0.0085\n",
            "Epoch 383/500\n",
            "11/11 [==============================] - 0s 3ms/step - loss: 0.0162 - mean_squared_error: 0.0162    \n",
            "Epoch 384/500\n",
            "11/11 [==============================] - 0s 3ms/step - loss: 0.0104 - mean_squared_error: 0.0104\n",
            "Epoch 385/500\n",
            "11/11 [==============================] - 0s 3ms/step - loss: 0.0108 - mean_squared_error: 0.0108\n",
            "Epoch 386/500\n",
            "11/11 [==============================] - 0s 3ms/step - loss: 0.0146 - mean_squared_error: 0.0146\n",
            "Epoch 387/500\n",
            "11/11 [==============================] - 0s 4ms/step - loss: 0.0095 - mean_squared_error: 0.0095\n",
            "Epoch 388/500\n",
            "11/11 [==============================] - 0s 3ms/step - loss: 0.0100 - mean_squared_error: 0.0100\n",
            "Epoch 389/500\n",
            "11/11 [==============================] - 0s 3ms/step - loss: 0.0115 - mean_squared_error: 0.0115\n",
            "Epoch 390/500\n",
            "11/11 [==============================] - 0s 4ms/step - loss: 0.0111 - mean_squared_error: 0.0111\n",
            "Epoch 391/500\n",
            "11/11 [==============================] - 0s 5ms/step - loss: 0.0149 - mean_squared_error: 0.0149\n",
            "Epoch 392/500\n",
            "11/11 [==============================] - 0s 3ms/step - loss: 0.0102 - mean_squared_error: 0.0102\n",
            "Epoch 393/500\n",
            "11/11 [==============================] - 0s 3ms/step - loss: 0.0126 - mean_squared_error: 0.0126\n",
            "Epoch 394/500\n",
            "11/11 [==============================] - 0s 4ms/step - loss: 0.0113 - mean_squared_error: 0.0113\n",
            "Epoch 395/500\n",
            "11/11 [==============================] - 0s 3ms/step - loss: 0.0115 - mean_squared_error: 0.0115\n",
            "Epoch 396/500\n",
            "11/11 [==============================] - 0s 3ms/step - loss: 0.0143 - mean_squared_error: 0.0143\n",
            "Epoch 397/500\n",
            "11/11 [==============================] - 0s 4ms/step - loss: 0.0109 - mean_squared_error: 0.0109\n",
            "Epoch 398/500\n",
            "11/11 [==============================] - 0s 5ms/step - loss: 0.0055 - mean_squared_error: 0.0055\n",
            "Epoch 399/500\n",
            "11/11 [==============================] - 0s 4ms/step - loss: 0.0100 - mean_squared_error: 0.0100\n",
            "Epoch 400/500\n",
            "11/11 [==============================] - 0s 4ms/step - loss: 0.0116 - mean_squared_error: 0.0116\n",
            "Epoch 401/500\n",
            "11/11 [==============================] - 0s 4ms/step - loss: 0.0131 - mean_squared_error: 0.0131\n",
            "Epoch 402/500\n",
            "11/11 [==============================] - 0s 3ms/step - loss: 0.0124 - mean_squared_error: 0.0124\n",
            "Epoch 403/500\n",
            "11/11 [==============================] - 0s 3ms/step - loss: 0.0073 - mean_squared_error: 0.0073\n",
            "Epoch 404/500\n",
            "11/11 [==============================] - 0s 4ms/step - loss: 0.0142 - mean_squared_error: 0.0142\n",
            "Epoch 405/500\n",
            "11/11 [==============================] - 0s 3ms/step - loss: 0.0125 - mean_squared_error: 0.0125\n",
            "Epoch 406/500\n",
            "11/11 [==============================] - 0s 5ms/step - loss: 0.0120 - mean_squared_error: 0.0120\n",
            "Epoch 407/500\n",
            "11/11 [==============================] - 0s 3ms/step - loss: 0.0116 - mean_squared_error: 0.0116\n",
            "Epoch 408/500\n",
            "11/11 [==============================] - 0s 3ms/step - loss: 0.0093 - mean_squared_error: 0.0093\n",
            "Epoch 409/500\n",
            "11/11 [==============================] - 0s 3ms/step - loss: 0.0194 - mean_squared_error: 0.0194\n",
            "Epoch 410/500\n",
            "11/11 [==============================] - 0s 4ms/step - loss: 0.0200 - mean_squared_error: 0.0200\n",
            "Epoch 411/500\n",
            "11/11 [==============================] - 0s 5ms/step - loss: 0.0082 - mean_squared_error: 0.0082\n",
            "Epoch 412/500\n",
            "11/11 [==============================] - 0s 4ms/step - loss: 0.0094 - mean_squared_error: 0.0094\n",
            "Epoch 413/500\n",
            "11/11 [==============================] - 0s 4ms/step - loss: 0.0099 - mean_squared_error: 0.0099\n",
            "Epoch 414/500\n",
            "11/11 [==============================] - 0s 4ms/step - loss: 0.0134 - mean_squared_error: 0.0134\n",
            "Epoch 415/500\n",
            "11/11 [==============================] - 0s 4ms/step - loss: 0.0120 - mean_squared_error: 0.0120\n",
            "Epoch 416/500\n",
            "11/11 [==============================] - 0s 4ms/step - loss: 0.0101 - mean_squared_error: 0.0101\n",
            "Epoch 417/500\n",
            "11/11 [==============================] - 0s 4ms/step - loss: 0.0108 - mean_squared_error: 0.0108\n",
            "Epoch 418/500\n",
            "11/11 [==============================] - 0s 4ms/step - loss: 0.0110 - mean_squared_error: 0.0110\n",
            "Epoch 419/500\n",
            "11/11 [==============================] - 0s 4ms/step - loss: 0.0083 - mean_squared_error: 0.0083\n",
            "Epoch 420/500\n",
            "11/11 [==============================] - 0s 4ms/step - loss: 0.0141 - mean_squared_error: 0.0141\n",
            "Epoch 421/500\n",
            "11/11 [==============================] - 0s 3ms/step - loss: 0.0083 - mean_squared_error: 0.0083\n",
            "Epoch 422/500\n",
            "11/11 [==============================] - 0s 4ms/step - loss: 0.0133 - mean_squared_error: 0.0133\n",
            "Epoch 423/500\n",
            "11/11 [==============================] - 0s 3ms/step - loss: 0.0079 - mean_squared_error: 0.0079    \n",
            "Epoch 424/500\n",
            "11/11 [==============================] - 0s 4ms/step - loss: 0.0094 - mean_squared_error: 0.0094\n",
            "Epoch 425/500\n",
            "11/11 [==============================] - 0s 4ms/step - loss: 0.0094 - mean_squared_error: 0.0094\n",
            "Epoch 426/500\n",
            "11/11 [==============================] - 0s 4ms/step - loss: 0.0094 - mean_squared_error: 0.0094\n",
            "Epoch 427/500\n",
            "11/11 [==============================] - 0s 4ms/step - loss: 0.0094 - mean_squared_error: 0.0094\n",
            "Epoch 428/500\n",
            "11/11 [==============================] - 0s 4ms/step - loss: 0.0104 - mean_squared_error: 0.0104\n",
            "Epoch 429/500\n",
            "11/11 [==============================] - 0s 4ms/step - loss: 0.0104 - mean_squared_error: 0.0104\n",
            "Epoch 430/500\n",
            "11/11 [==============================] - 0s 3ms/step - loss: 0.0086 - mean_squared_error: 0.0086\n",
            "Epoch 431/500\n",
            "11/11 [==============================] - 0s 4ms/step - loss: 0.0107 - mean_squared_error: 0.0107\n",
            "Epoch 432/500\n",
            "11/11 [==============================] - 0s 3ms/step - loss: 0.0101 - mean_squared_error: 0.0101\n",
            "Epoch 433/500\n",
            "11/11 [==============================] - 0s 4ms/step - loss: 0.0121 - mean_squared_error: 0.0121\n",
            "Epoch 434/500\n",
            "11/11 [==============================] - 0s 3ms/step - loss: 0.0121 - mean_squared_error: 0.0121\n",
            "Epoch 435/500\n",
            "11/11 [==============================] - 0s 3ms/step - loss: 0.0166 - mean_squared_error: 0.0166\n",
            "Epoch 436/500\n",
            "11/11 [==============================] - 0s 3ms/step - loss: 0.0123 - mean_squared_error: 0.0123\n",
            "Epoch 437/500\n",
            "11/11 [==============================] - 0s 4ms/step - loss: 0.0069 - mean_squared_error: 0.0069\n",
            "Epoch 438/500\n",
            "11/11 [==============================] - 0s 3ms/step - loss: 0.0115 - mean_squared_error: 0.0115\n",
            "Epoch 439/500\n",
            "11/11 [==============================] - 0s 4ms/step - loss: 0.0096 - mean_squared_error: 0.0096\n",
            "Epoch 440/500\n",
            "11/11 [==============================] - 0s 4ms/step - loss: 0.0057 - mean_squared_error: 0.0057\n",
            "Epoch 441/500\n",
            "11/11 [==============================] - 0s 4ms/step - loss: 0.0133 - mean_squared_error: 0.0133\n",
            "Epoch 442/500\n",
            "11/11 [==============================] - 0s 4ms/step - loss: 0.0105 - mean_squared_error: 0.0105\n",
            "Epoch 443/500\n",
            "11/11 [==============================] - 0s 3ms/step - loss: 0.0126 - mean_squared_error: 0.0126\n",
            "Epoch 444/500\n",
            "11/11 [==============================] - 0s 3ms/step - loss: 0.0119 - mean_squared_error: 0.0119\n",
            "Epoch 445/500\n",
            "11/11 [==============================] - 0s 4ms/step - loss: 0.0157 - mean_squared_error: 0.0157\n",
            "Epoch 446/500\n",
            "11/11 [==============================] - 0s 4ms/step - loss: 0.0149 - mean_squared_error: 0.0149\n",
            "Epoch 447/500\n",
            "11/11 [==============================] - 0s 3ms/step - loss: 0.0094 - mean_squared_error: 0.0094\n",
            "Epoch 448/500\n",
            "11/11 [==============================] - 0s 4ms/step - loss: 0.0094 - mean_squared_error: 0.0094\n",
            "Epoch 449/500\n",
            "11/11 [==============================] - 0s 4ms/step - loss: 0.0063 - mean_squared_error: 0.0063\n",
            "Epoch 450/500\n",
            "11/11 [==============================] - 0s 4ms/step - loss: 0.0098 - mean_squared_error: 0.0098\n",
            "Epoch 451/500\n",
            "11/11 [==============================] - 0s 5ms/step - loss: 0.0097 - mean_squared_error: 0.0097\n",
            "Epoch 452/500\n",
            "11/11 [==============================] - 0s 4ms/step - loss: 0.0071 - mean_squared_error: 0.0071\n",
            "Epoch 453/500\n",
            "11/11 [==============================] - 0s 4ms/step - loss: 0.0103 - mean_squared_error: 0.0103\n",
            "Epoch 454/500\n",
            "11/11 [==============================] - 0s 4ms/step - loss: 0.0117 - mean_squared_error: 0.0117\n",
            "Epoch 455/500\n",
            "11/11 [==============================] - 0s 3ms/step - loss: 0.0092 - mean_squared_error: 0.0092\n",
            "Epoch 456/500\n",
            "11/11 [==============================] - 0s 3ms/step - loss: 0.0109 - mean_squared_error: 0.0109\n",
            "Epoch 457/500\n",
            "11/11 [==============================] - 0s 4ms/step - loss: 0.0158 - mean_squared_error: 0.0158\n",
            "Epoch 458/500\n",
            "11/11 [==============================] - 0s 4ms/step - loss: 0.0130 - mean_squared_error: 0.0130\n",
            "Epoch 459/500\n",
            "11/11 [==============================] - 0s 4ms/step - loss: 0.0154 - mean_squared_error: 0.0154\n",
            "Epoch 460/500\n",
            "11/11 [==============================] - 0s 3ms/step - loss: 0.0100 - mean_squared_error: 0.0100\n",
            "Epoch 461/500\n",
            "11/11 [==============================] - 0s 4ms/step - loss: 0.0118 - mean_squared_error: 0.0118\n",
            "Epoch 462/500\n",
            "11/11 [==============================] - 0s 4ms/step - loss: 0.0130 - mean_squared_error: 0.0130\n",
            "Epoch 463/500\n",
            "11/11 [==============================] - 0s 3ms/step - loss: 0.0066 - mean_squared_error: 0.0066\n",
            "Epoch 464/500\n",
            "11/11 [==============================] - 0s 3ms/step - loss: 0.0083 - mean_squared_error: 0.0083\n",
            "Epoch 465/500\n",
            "11/11 [==============================] - 0s 4ms/step - loss: 0.0096 - mean_squared_error: 0.0096\n",
            "Epoch 466/500\n",
            "11/11 [==============================] - 0s 4ms/step - loss: 0.0131 - mean_squared_error: 0.0131\n",
            "Epoch 467/500\n",
            "11/11 [==============================] - 0s 4ms/step - loss: 0.0118 - mean_squared_error: 0.0118\n",
            "Epoch 468/500\n",
            "11/11 [==============================] - 0s 3ms/step - loss: 0.0093 - mean_squared_error: 0.0093\n",
            "Epoch 469/500\n",
            "11/11 [==============================] - 0s 3ms/step - loss: 0.0146 - mean_squared_error: 0.0146\n",
            "Epoch 470/500\n",
            "11/11 [==============================] - 0s 4ms/step - loss: 0.0107 - mean_squared_error: 0.0107\n",
            "Epoch 471/500\n",
            "11/11 [==============================] - 0s 5ms/step - loss: 0.0090 - mean_squared_error: 0.0090\n",
            "Epoch 472/500\n",
            "11/11 [==============================] - 0s 4ms/step - loss: 0.0083 - mean_squared_error: 0.0083\n",
            "Epoch 473/500\n",
            "11/11 [==============================] - 0s 4ms/step - loss: 0.0139 - mean_squared_error: 0.0139\n",
            "Epoch 474/500\n",
            "11/11 [==============================] - 0s 4ms/step - loss: 0.0109 - mean_squared_error: 0.0109    \n",
            "Epoch 475/500\n",
            "11/11 [==============================] - 0s 3ms/step - loss: 0.0080 - mean_squared_error: 0.0080\n",
            "Epoch 476/500\n",
            "11/11 [==============================] - 0s 4ms/step - loss: 0.0087 - mean_squared_error: 0.0087\n",
            "Epoch 477/500\n",
            "11/11 [==============================] - 0s 3ms/step - loss: 0.0089 - mean_squared_error: 0.0089\n",
            "Epoch 478/500\n",
            "11/11 [==============================] - 0s 4ms/step - loss: 0.0111 - mean_squared_error: 0.0111\n",
            "Epoch 479/500\n",
            "11/11 [==============================] - 0s 4ms/step - loss: 0.0102 - mean_squared_error: 0.0102\n",
            "Epoch 480/500\n",
            "11/11 [==============================] - 0s 3ms/step - loss: 0.0093 - mean_squared_error: 0.0093\n",
            "Epoch 481/500\n",
            "11/11 [==============================] - 0s 4ms/step - loss: 0.0095 - mean_squared_error: 0.0095\n",
            "Epoch 482/500\n",
            "11/11 [==============================] - 0s 4ms/step - loss: 0.0074 - mean_squared_error: 0.0074\n",
            "Epoch 483/500\n",
            "11/11 [==============================] - 0s 3ms/step - loss: 0.0061 - mean_squared_error: 0.0061\n",
            "Epoch 484/500\n",
            "11/11 [==============================] - 0s 4ms/step - loss: 0.0061 - mean_squared_error: 0.0061\n",
            "Epoch 485/500\n",
            "11/11 [==============================] - 0s 3ms/step - loss: 0.0087 - mean_squared_error: 0.0087\n",
            "Epoch 486/500\n",
            "11/11 [==============================] - 0s 3ms/step - loss: 0.0092 - mean_squared_error: 0.0092\n",
            "Epoch 487/500\n",
            "11/11 [==============================] - 0s 3ms/step - loss: 0.0095 - mean_squared_error: 0.0095\n",
            "Epoch 488/500\n",
            "11/11 [==============================] - 0s 3ms/step - loss: 0.0118 - mean_squared_error: 0.0118\n",
            "Epoch 489/500\n",
            "11/11 [==============================] - 0s 4ms/step - loss: 0.0063 - mean_squared_error: 0.0063\n",
            "Epoch 490/500\n",
            "11/11 [==============================] - 0s 3ms/step - loss: 0.0101 - mean_squared_error: 0.0101\n",
            "Epoch 491/500\n",
            "11/11 [==============================] - 0s 3ms/step - loss: 0.0102 - mean_squared_error: 0.0102\n",
            "Epoch 492/500\n",
            "11/11 [==============================] - 0s 5ms/step - loss: 0.0090 - mean_squared_error: 0.0090\n",
            "Epoch 493/500\n",
            "11/11 [==============================] - 0s 4ms/step - loss: 0.0086 - mean_squared_error: 0.0086\n",
            "Epoch 494/500\n",
            "11/11 [==============================] - 0s 4ms/step - loss: 0.0092 - mean_squared_error: 0.0092\n",
            "Epoch 495/500\n",
            "11/11 [==============================] - 0s 4ms/step - loss: 0.0121 - mean_squared_error: 0.0121\n",
            "Epoch 496/500\n",
            "11/11 [==============================] - 0s 4ms/step - loss: 0.0093 - mean_squared_error: 0.0093\n",
            "Epoch 497/500\n",
            "11/11 [==============================] - 0s 3ms/step - loss: 0.0082 - mean_squared_error: 0.0082\n",
            "Epoch 498/500\n",
            "11/11 [==============================] - 0s 4ms/step - loss: 0.0090 - mean_squared_error: 0.0090\n",
            "Epoch 499/500\n",
            "11/11 [==============================] - 0s 4ms/step - loss: 0.0071 - mean_squared_error: 0.0071\n",
            "Epoch 500/500\n",
            "11/11 [==============================] - 0s 3ms/step - loss: 0.0111 - mean_squared_error: 0.0111\n"
          ]
        },
        {
          "output_type": "execute_result",
          "data": {
            "text/plain": [
              "<keras.callbacks.History at 0x7f676c4dd550>"
            ]
          },
          "metadata": {},
          "execution_count": 36
        }
      ]
    },
    {
      "cell_type": "code",
      "source": [
        "train_pred_ann=model.predict(train_data)\n",
        "print(r2_score(train_pred_ann,train_out))"
      ],
      "metadata": {
        "colab": {
          "base_uri": "https://localhost:8080/"
        },
        "id": "Rf25UbNzWnQb",
        "outputId": "032bc755-5469-4021-9036-073cd0b0d913"
      },
      "execution_count": null,
      "outputs": [
        {
          "output_type": "stream",
          "name": "stdout",
          "text": [
            "0.7153667026594905\n"
          ]
        }
      ]
    },
    {
      "cell_type": "code",
      "source": [
        "test_pred_ann=model.predict(test_data)\n",
        "print(r2_score(test_pred_ann,test_out))"
      ],
      "metadata": {
        "colab": {
          "base_uri": "https://localhost:8080/"
        },
        "id": "U9hPeETfWtmS",
        "outputId": "0b3de718-dafe-46bc-9cf1-a61026a01d3c"
      },
      "execution_count": null,
      "outputs": [
        {
          "output_type": "stream",
          "name": "stdout",
          "text": [
            "0.7690732566442161\n"
          ]
        }
      ]
    }
  ],
  "metadata": {
    "colab": {
      "collapsed_sections": [],
      "name": "Copy of IOP.ipynb",
      "provenance": [],
      "include_colab_link": true
    },
    "kernelspec": {
      "display_name": "Python 3 (ipykernel)",
      "language": "python",
      "name": "python3"
    },
    "language_info": {
      "codemirror_mode": {
        "name": "ipython",
        "version": 3
      },
      "file_extension": ".py",
      "mimetype": "text/x-python",
      "name": "python",
      "nbconvert_exporter": "python",
      "pygments_lexer": "ipython3",
      "version": "3.9.7"
    }
  },
  "nbformat": 4,
  "nbformat_minor": 0
}